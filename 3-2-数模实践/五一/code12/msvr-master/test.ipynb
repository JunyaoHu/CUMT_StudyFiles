{
 "cells": [
  {
   "cell_type": "code",
   "execution_count": 1,
   "metadata": {},
   "outputs": [
    {
     "data": {
      "text/plain": [
       "_StoreAction(option_strings=['-outputH'], dest='outputH', nargs=None, const=None, default=2, type=<class 'int'>, choices=None, help=None, metavar=None)"
      ]
     },
     "execution_count": 1,
     "metadata": {},
     "output_type": "execute_result"
    }
   ],
   "source": [
    "from model.MSVR import MSVR\n",
    "from model.utility import create_dataset,rmse\n",
    "\n",
    "from sklearn.preprocessing import MinMaxScaler\n",
    "import numpy as np\n",
    "import argparse\n",
    "\n",
    "\n",
    "\n",
    "dataPath = './data/MackeyGlass_t17.txt'\n",
    "rawData = np.loadtxt(dataPath)\n",
    "rawData\n",
    "\n",
    "parser = argparse.ArgumentParser(\n",
    "    description='MSVR for Time Series Forecasting')\n",
    "parser.add_argument('-inputDim', type=int, default=10, metavar='N',\n",
    "                    help='steps for prediction (default: 1)')\n",
    "parser.add_argument('-outputH', type=int, default=2)\n",
    "\n",
    "\n"
   ]
  },
  {
   "cell_type": "code",
   "execution_count": 3,
   "metadata": {},
   "outputs": [],
   "source": [
    "opt, unknown = parser.parse_known_args()\n",
    "\n",
    "dim = opt.inputDim\n",
    "h = opt.outputH\n",
    "\n",
    "ts = rawData.reshape(-1)\n",
    "segmentation = int(len(ts)*2/3)"
   ]
  },
  {
   "cell_type": "code",
   "execution_count": 5,
   "metadata": {},
   "outputs": [
    {
     "name": "stdout",
     "output_type": "stream",
     "text": [
      "0.028964804423148662 0.028874542451566572\n"
     ]
    }
   ],
   "source": [
    "dataset = create_dataset(ts,dim,h)\n",
    "scaler = MinMaxScaler(feature_range=(-1, 1))\n",
    "dataset = scaler.fit_transform(dataset)\n",
    "X, Y = dataset[:, :(0 - h)], dataset[:, (0-h):]\n",
    "train_input = X[:segmentation, :]\n",
    "train_target = Y[:segmentation].reshape(-1, h)\n",
    "test_input = X[segmentation:, :]\n",
    "test_target = Y[segmentation:].reshape(-1, h)\n",
    "\n",
    "msvr = MSVR()\n",
    "msvr.fit(train_input,train_target)\n",
    "trainPred = msvr.predict(train_input)\n",
    "testPred = msvr.predict(test_input)\n",
    "\n",
    "trainMetric = rmse(train_target,trainPred)\n",
    "testMetric = rmse(test_target,testPred)\n",
    "\n",
    "print(trainMetric, testMetric)"
   ]
  },
  {
   "cell_type": "code",
   "execution_count": null,
   "metadata": {},
   "outputs": [],
   "source": []
  }
 ],
 "metadata": {
  "interpreter": {
   "hash": "b3ba2566441a7c06988d0923437866b63cedc61552a5af99d1f4fb67d367b25f"
  },
  "kernelspec": {
   "display_name": "Python 3",
   "language": "python",
   "name": "python3"
  },
  "language_info": {
   "codemirror_mode": {
    "name": "ipython",
    "version": 3
   },
   "file_extension": ".py",
   "mimetype": "text/x-python",
   "name": "python",
   "nbconvert_exporter": "python",
   "pygments_lexer": "ipython3",
   "version": "3.8.8"
  }
 },
 "nbformat": 4,
 "nbformat_minor": 2
}
